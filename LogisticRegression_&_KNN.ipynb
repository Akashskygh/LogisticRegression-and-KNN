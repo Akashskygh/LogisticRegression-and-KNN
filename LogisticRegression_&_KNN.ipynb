{
  "nbformat": 4,
  "nbformat_minor": 0,
  "metadata": {
    "colab": {
      "provenance": [],
      "authorship_tag": "ABX9TyN/20G9OjKRm9RY1mGrHdw9",
      "include_colab_link": true
    },
    "kernelspec": {
      "name": "python3",
      "display_name": "Python 3"
    },
    "language_info": {
      "name": "python"
    }
  },
  "cells": [
    {
      "cell_type": "markdown",
      "metadata": {
        "id": "view-in-github",
        "colab_type": "text"
      },
      "source": [
        "<a href=\"https://colab.research.google.com/github/Akashskygh/LogisticRegression-and-KNN/blob/main/LogisticRegression_%26_KNN.ipynb\" target=\"_parent\"><img src=\"https://colab.research.google.com/assets/colab-badge.svg\" alt=\"Open In Colab\"/></a>"
      ]
    },
    {
      "cell_type": "code",
      "source": [
        "import pandas as pd\n",
        "import numpy as np\n",
        "import matplotlib.pyplot as plt\n",
        "from sklearn.model_selection import train_test_split, cross_val_score, KFold\n",
        "from sklearn.metrics import accuracy_score, confusion_matrix, classification_report, r2_score, mean_squared_error\n",
        "from sklearn.linear_model import LogisticRegression\n",
        "from sklearn.neighbors import KNeighborsClassifier\n",
        "import seaborn as sns\n",
        "from matplotlib.colors import ListedColormap"
      ],
      "metadata": {
        "id": "l3adXIxktrzs"
      },
      "execution_count": null,
      "outputs": []
    },
    {
      "cell_type": "code",
      "source": [
        "df = pd.read_csv(\"ANSUR II Mixed modified.csv\")\n",
        "df.describe()"
      ],
      "metadata": {
        "colab": {
          "base_uri": "https://localhost:8080/",
          "height": 349
        },
        "id": "8orENHintzk7",
        "outputId": "36498d73-89cb-4868-87cb-e4f05087ac50"
      },
      "execution_count": null,
      "outputs": [
        {
          "output_type": "execute_result",
          "data": {
            "text/plain": [
              "       abdominalextensiondepthsitting  acromialheight  acromionradialelength  \\\n",
              "count                     2000.000000      2000.00000            2000.000000   \n",
              "mean                       246.552500      1388.43500             322.076500   \n",
              "std                         36.423819        80.46209              21.263318   \n",
              "min                        155.000000      1115.00000             249.000000   \n",
              "25%                        219.000000      1328.75000             307.000000   \n",
              "50%                        243.000000      1386.00000             322.000000   \n",
              "75%                        271.000000      1443.00000             336.000000   \n",
              "max                        451.000000      1648.00000             388.000000   \n",
              "\n",
              "       anklecircumference  axillaheight  balloffootcircumference  \\\n",
              "count         2000.000000   2000.000000              2000.000000   \n",
              "mean           223.290000   1285.571000               240.565000   \n",
              "std             16.080335     72.966204                17.021917   \n",
              "min            170.000000   1038.000000               194.000000   \n",
              "25%            212.000000   1233.000000               227.000000   \n",
              "50%            223.000000   1284.000000               240.000000   \n",
              "75%            233.250000   1334.000000               253.000000   \n",
              "max            281.000000   1535.000000               297.000000   \n",
              "\n",
              "       balloffootlength  biacromialbreadth  bicepscircumferenceflexed  \\\n",
              "count       2000.000000        2000.000000                2000.000000   \n",
              "mean         190.233500         392.062000                 332.870500   \n",
              "std           13.527804          30.731195                  42.005094   \n",
              "min          151.000000         311.000000                 230.000000   \n",
              "25%          180.000000         367.000000                 302.000000   \n",
              "50%          190.000000         392.000000                 330.000000   \n",
              "75%          200.000000         416.000000                 362.000000   \n",
              "max          234.000000         475.000000                 478.000000   \n",
              "\n",
              "       bicristalbreadth  ...  waistcircumference  waistdepth  \\\n",
              "count       2000.000000  ...         2000.000000  2000.00000   \n",
              "mean         273.076000  ...          910.347500   227.31700   \n",
              "std           20.007433  ...          111.339962    34.80036   \n",
              "min          197.000000  ...          620.000000   138.00000   \n",
              "25%          259.750000  ...          824.000000   201.00000   \n",
              "50%          273.000000  ...          908.000000   224.00000   \n",
              "75%          286.000000  ...          989.000000   250.00000   \n",
              "max          362.000000  ...         1379.000000   406.00000   \n",
              "\n",
              "       waistfrontlengthsitting  waistheightomphalion     weightkg  \\\n",
              "count               2000.00000           2000.000000  2000.000000   \n",
              "mean                 378.78850           1017.998000   769.626500   \n",
              "std                   32.73638             64.425751   153.606808   \n",
              "min                  295.00000            805.000000   400.000000   \n",
              "25%                  355.00000            972.000000   659.000000   \n",
              "50%                  377.00000           1017.000000   754.000000   \n",
              "75%                  400.00000           1061.000000   867.000000   \n",
              "max                  494.00000           1245.000000  1413.000000   \n",
              "\n",
              "       wristcircumference  wristheight          Age     Heightin    Weightlbs  \n",
              "count         2000.000000  2000.000000  2000.000000  2000.000000  2000.000000  \n",
              "mean           166.306000   819.410000    30.813000    67.344500   168.532500  \n",
              "std             13.555893    47.895124     8.653292     4.007349    33.297617  \n",
              "min            134.000000   672.000000    18.000000    56.000000     0.000000  \n",
              "25%            155.000000   785.000000    24.000000    64.000000   145.000000  \n",
              "50%            166.000000   817.000000    29.000000    67.000000   165.000000  \n",
              "75%            177.000000   852.000000    38.000000    70.000000   190.000000  \n",
              "max            207.000000   990.000000    58.000000    94.000000   315.000000  \n",
              "\n",
              "[8 rows x 88 columns]"
            ],
            "text/html": [
              "\n",
              "  <div id=\"df-cbd3a61d-a4fa-46fb-aa5f-066e400b39b8\" class=\"colab-df-container\">\n",
              "    <div>\n",
              "<style scoped>\n",
              "    .dataframe tbody tr th:only-of-type {\n",
              "        vertical-align: middle;\n",
              "    }\n",
              "\n",
              "    .dataframe tbody tr th {\n",
              "        vertical-align: top;\n",
              "    }\n",
              "\n",
              "    .dataframe thead th {\n",
              "        text-align: right;\n",
              "    }\n",
              "</style>\n",
              "<table border=\"1\" class=\"dataframe\">\n",
              "  <thead>\n",
              "    <tr style=\"text-align: right;\">\n",
              "      <th></th>\n",
              "      <th>abdominalextensiondepthsitting</th>\n",
              "      <th>acromialheight</th>\n",
              "      <th>acromionradialelength</th>\n",
              "      <th>anklecircumference</th>\n",
              "      <th>axillaheight</th>\n",
              "      <th>balloffootcircumference</th>\n",
              "      <th>balloffootlength</th>\n",
              "      <th>biacromialbreadth</th>\n",
              "      <th>bicepscircumferenceflexed</th>\n",
              "      <th>bicristalbreadth</th>\n",
              "      <th>...</th>\n",
              "      <th>waistcircumference</th>\n",
              "      <th>waistdepth</th>\n",
              "      <th>waistfrontlengthsitting</th>\n",
              "      <th>waistheightomphalion</th>\n",
              "      <th>weightkg</th>\n",
              "      <th>wristcircumference</th>\n",
              "      <th>wristheight</th>\n",
              "      <th>Age</th>\n",
              "      <th>Heightin</th>\n",
              "      <th>Weightlbs</th>\n",
              "    </tr>\n",
              "  </thead>\n",
              "  <tbody>\n",
              "    <tr>\n",
              "      <th>count</th>\n",
              "      <td>2000.000000</td>\n",
              "      <td>2000.00000</td>\n",
              "      <td>2000.000000</td>\n",
              "      <td>2000.000000</td>\n",
              "      <td>2000.000000</td>\n",
              "      <td>2000.000000</td>\n",
              "      <td>2000.000000</td>\n",
              "      <td>2000.000000</td>\n",
              "      <td>2000.000000</td>\n",
              "      <td>2000.000000</td>\n",
              "      <td>...</td>\n",
              "      <td>2000.000000</td>\n",
              "      <td>2000.00000</td>\n",
              "      <td>2000.00000</td>\n",
              "      <td>2000.000000</td>\n",
              "      <td>2000.000000</td>\n",
              "      <td>2000.000000</td>\n",
              "      <td>2000.000000</td>\n",
              "      <td>2000.000000</td>\n",
              "      <td>2000.000000</td>\n",
              "      <td>2000.000000</td>\n",
              "    </tr>\n",
              "    <tr>\n",
              "      <th>mean</th>\n",
              "      <td>246.552500</td>\n",
              "      <td>1388.43500</td>\n",
              "      <td>322.076500</td>\n",
              "      <td>223.290000</td>\n",
              "      <td>1285.571000</td>\n",
              "      <td>240.565000</td>\n",
              "      <td>190.233500</td>\n",
              "      <td>392.062000</td>\n",
              "      <td>332.870500</td>\n",
              "      <td>273.076000</td>\n",
              "      <td>...</td>\n",
              "      <td>910.347500</td>\n",
              "      <td>227.31700</td>\n",
              "      <td>378.78850</td>\n",
              "      <td>1017.998000</td>\n",
              "      <td>769.626500</td>\n",
              "      <td>166.306000</td>\n",
              "      <td>819.410000</td>\n",
              "      <td>30.813000</td>\n",
              "      <td>67.344500</td>\n",
              "      <td>168.532500</td>\n",
              "    </tr>\n",
              "    <tr>\n",
              "      <th>std</th>\n",
              "      <td>36.423819</td>\n",
              "      <td>80.46209</td>\n",
              "      <td>21.263318</td>\n",
              "      <td>16.080335</td>\n",
              "      <td>72.966204</td>\n",
              "      <td>17.021917</td>\n",
              "      <td>13.527804</td>\n",
              "      <td>30.731195</td>\n",
              "      <td>42.005094</td>\n",
              "      <td>20.007433</td>\n",
              "      <td>...</td>\n",
              "      <td>111.339962</td>\n",
              "      <td>34.80036</td>\n",
              "      <td>32.73638</td>\n",
              "      <td>64.425751</td>\n",
              "      <td>153.606808</td>\n",
              "      <td>13.555893</td>\n",
              "      <td>47.895124</td>\n",
              "      <td>8.653292</td>\n",
              "      <td>4.007349</td>\n",
              "      <td>33.297617</td>\n",
              "    </tr>\n",
              "    <tr>\n",
              "      <th>min</th>\n",
              "      <td>155.000000</td>\n",
              "      <td>1115.00000</td>\n",
              "      <td>249.000000</td>\n",
              "      <td>170.000000</td>\n",
              "      <td>1038.000000</td>\n",
              "      <td>194.000000</td>\n",
              "      <td>151.000000</td>\n",
              "      <td>311.000000</td>\n",
              "      <td>230.000000</td>\n",
              "      <td>197.000000</td>\n",
              "      <td>...</td>\n",
              "      <td>620.000000</td>\n",
              "      <td>138.00000</td>\n",
              "      <td>295.00000</td>\n",
              "      <td>805.000000</td>\n",
              "      <td>400.000000</td>\n",
              "      <td>134.000000</td>\n",
              "      <td>672.000000</td>\n",
              "      <td>18.000000</td>\n",
              "      <td>56.000000</td>\n",
              "      <td>0.000000</td>\n",
              "    </tr>\n",
              "    <tr>\n",
              "      <th>25%</th>\n",
              "      <td>219.000000</td>\n",
              "      <td>1328.75000</td>\n",
              "      <td>307.000000</td>\n",
              "      <td>212.000000</td>\n",
              "      <td>1233.000000</td>\n",
              "      <td>227.000000</td>\n",
              "      <td>180.000000</td>\n",
              "      <td>367.000000</td>\n",
              "      <td>302.000000</td>\n",
              "      <td>259.750000</td>\n",
              "      <td>...</td>\n",
              "      <td>824.000000</td>\n",
              "      <td>201.00000</td>\n",
              "      <td>355.00000</td>\n",
              "      <td>972.000000</td>\n",
              "      <td>659.000000</td>\n",
              "      <td>155.000000</td>\n",
              "      <td>785.000000</td>\n",
              "      <td>24.000000</td>\n",
              "      <td>64.000000</td>\n",
              "      <td>145.000000</td>\n",
              "    </tr>\n",
              "    <tr>\n",
              "      <th>50%</th>\n",
              "      <td>243.000000</td>\n",
              "      <td>1386.00000</td>\n",
              "      <td>322.000000</td>\n",
              "      <td>223.000000</td>\n",
              "      <td>1284.000000</td>\n",
              "      <td>240.000000</td>\n",
              "      <td>190.000000</td>\n",
              "      <td>392.000000</td>\n",
              "      <td>330.000000</td>\n",
              "      <td>273.000000</td>\n",
              "      <td>...</td>\n",
              "      <td>908.000000</td>\n",
              "      <td>224.00000</td>\n",
              "      <td>377.00000</td>\n",
              "      <td>1017.000000</td>\n",
              "      <td>754.000000</td>\n",
              "      <td>166.000000</td>\n",
              "      <td>817.000000</td>\n",
              "      <td>29.000000</td>\n",
              "      <td>67.000000</td>\n",
              "      <td>165.000000</td>\n",
              "    </tr>\n",
              "    <tr>\n",
              "      <th>75%</th>\n",
              "      <td>271.000000</td>\n",
              "      <td>1443.00000</td>\n",
              "      <td>336.000000</td>\n",
              "      <td>233.250000</td>\n",
              "      <td>1334.000000</td>\n",
              "      <td>253.000000</td>\n",
              "      <td>200.000000</td>\n",
              "      <td>416.000000</td>\n",
              "      <td>362.000000</td>\n",
              "      <td>286.000000</td>\n",
              "      <td>...</td>\n",
              "      <td>989.000000</td>\n",
              "      <td>250.00000</td>\n",
              "      <td>400.00000</td>\n",
              "      <td>1061.000000</td>\n",
              "      <td>867.000000</td>\n",
              "      <td>177.000000</td>\n",
              "      <td>852.000000</td>\n",
              "      <td>38.000000</td>\n",
              "      <td>70.000000</td>\n",
              "      <td>190.000000</td>\n",
              "    </tr>\n",
              "    <tr>\n",
              "      <th>max</th>\n",
              "      <td>451.000000</td>\n",
              "      <td>1648.00000</td>\n",
              "      <td>388.000000</td>\n",
              "      <td>281.000000</td>\n",
              "      <td>1535.000000</td>\n",
              "      <td>297.000000</td>\n",
              "      <td>234.000000</td>\n",
              "      <td>475.000000</td>\n",
              "      <td>478.000000</td>\n",
              "      <td>362.000000</td>\n",
              "      <td>...</td>\n",
              "      <td>1379.000000</td>\n",
              "      <td>406.00000</td>\n",
              "      <td>494.00000</td>\n",
              "      <td>1245.000000</td>\n",
              "      <td>1413.000000</td>\n",
              "      <td>207.000000</td>\n",
              "      <td>990.000000</td>\n",
              "      <td>58.000000</td>\n",
              "      <td>94.000000</td>\n",
              "      <td>315.000000</td>\n",
              "    </tr>\n",
              "  </tbody>\n",
              "</table>\n",
              "<p>8 rows × 88 columns</p>\n",
              "</div>\n",
              "    <div class=\"colab-df-buttons\">\n",
              "\n",
              "  <div class=\"colab-df-container\">\n",
              "    <button class=\"colab-df-convert\" onclick=\"convertToInteractive('df-cbd3a61d-a4fa-46fb-aa5f-066e400b39b8')\"\n",
              "            title=\"Convert this dataframe to an interactive table.\"\n",
              "            style=\"display:none;\">\n",
              "\n",
              "  <svg xmlns=\"http://www.w3.org/2000/svg\" height=\"24px\" viewBox=\"0 -960 960 960\">\n",
              "    <path d=\"M120-120v-720h720v720H120Zm60-500h600v-160H180v160Zm220 220h160v-160H400v160Zm0 220h160v-160H400v160ZM180-400h160v-160H180v160Zm440 0h160v-160H620v160ZM180-180h160v-160H180v160Zm440 0h160v-160H620v160Z\"/>\n",
              "  </svg>\n",
              "    </button>\n",
              "\n",
              "  <style>\n",
              "    .colab-df-container {\n",
              "      display:flex;\n",
              "      gap: 12px;\n",
              "    }\n",
              "\n",
              "    .colab-df-convert {\n",
              "      background-color: #E8F0FE;\n",
              "      border: none;\n",
              "      border-radius: 50%;\n",
              "      cursor: pointer;\n",
              "      display: none;\n",
              "      fill: #1967D2;\n",
              "      height: 32px;\n",
              "      padding: 0 0 0 0;\n",
              "      width: 32px;\n",
              "    }\n",
              "\n",
              "    .colab-df-convert:hover {\n",
              "      background-color: #E2EBFA;\n",
              "      box-shadow: 0px 1px 2px rgba(60, 64, 67, 0.3), 0px 1px 3px 1px rgba(60, 64, 67, 0.15);\n",
              "      fill: #174EA6;\n",
              "    }\n",
              "\n",
              "    .colab-df-buttons div {\n",
              "      margin-bottom: 4px;\n",
              "    }\n",
              "\n",
              "    [theme=dark] .colab-df-convert {\n",
              "      background-color: #3B4455;\n",
              "      fill: #D2E3FC;\n",
              "    }\n",
              "\n",
              "    [theme=dark] .colab-df-convert:hover {\n",
              "      background-color: #434B5C;\n",
              "      box-shadow: 0px 1px 3px 1px rgba(0, 0, 0, 0.15);\n",
              "      filter: drop-shadow(0px 1px 2px rgba(0, 0, 0, 0.3));\n",
              "      fill: #FFFFFF;\n",
              "    }\n",
              "  </style>\n",
              "\n",
              "    <script>\n",
              "      const buttonEl =\n",
              "        document.querySelector('#df-cbd3a61d-a4fa-46fb-aa5f-066e400b39b8 button.colab-df-convert');\n",
              "      buttonEl.style.display =\n",
              "        google.colab.kernel.accessAllowed ? 'block' : 'none';\n",
              "\n",
              "      async function convertToInteractive(key) {\n",
              "        const element = document.querySelector('#df-cbd3a61d-a4fa-46fb-aa5f-066e400b39b8');\n",
              "        const dataTable =\n",
              "          await google.colab.kernel.invokeFunction('convertToInteractive',\n",
              "                                                    [key], {});\n",
              "        if (!dataTable) return;\n",
              "\n",
              "        const docLinkHtml = 'Like what you see? Visit the ' +\n",
              "          '<a target=\"_blank\" href=https://colab.research.google.com/notebooks/data_table.ipynb>data table notebook</a>'\n",
              "          + ' to learn more about interactive tables.';\n",
              "        element.innerHTML = '';\n",
              "        dataTable['output_type'] = 'display_data';\n",
              "        await google.colab.output.renderOutput(dataTable, element);\n",
              "        const docLink = document.createElement('div');\n",
              "        docLink.innerHTML = docLinkHtml;\n",
              "        element.appendChild(docLink);\n",
              "      }\n",
              "    </script>\n",
              "  </div>\n",
              "\n",
              "\n",
              "<div id=\"df-3ac19304-6a36-49d6-9753-9f38b498447d\">\n",
              "  <button class=\"colab-df-quickchart\" onclick=\"quickchart('df-3ac19304-6a36-49d6-9753-9f38b498447d')\"\n",
              "            title=\"Suggest charts.\"\n",
              "            style=\"display:none;\">\n",
              "\n",
              "<svg xmlns=\"http://www.w3.org/2000/svg\" height=\"24px\"viewBox=\"0 0 24 24\"\n",
              "     width=\"24px\">\n",
              "    <g>\n",
              "        <path d=\"M19 3H5c-1.1 0-2 .9-2 2v14c0 1.1.9 2 2 2h14c1.1 0 2-.9 2-2V5c0-1.1-.9-2-2-2zM9 17H7v-7h2v7zm4 0h-2V7h2v10zm4 0h-2v-4h2v4z\"/>\n",
              "    </g>\n",
              "</svg>\n",
              "  </button>\n",
              "\n",
              "<style>\n",
              "  .colab-df-quickchart {\n",
              "      --bg-color: #E8F0FE;\n",
              "      --fill-color: #1967D2;\n",
              "      --hover-bg-color: #E2EBFA;\n",
              "      --hover-fill-color: #174EA6;\n",
              "      --disabled-fill-color: #AAA;\n",
              "      --disabled-bg-color: #DDD;\n",
              "  }\n",
              "\n",
              "  [theme=dark] .colab-df-quickchart {\n",
              "      --bg-color: #3B4455;\n",
              "      --fill-color: #D2E3FC;\n",
              "      --hover-bg-color: #434B5C;\n",
              "      --hover-fill-color: #FFFFFF;\n",
              "      --disabled-bg-color: #3B4455;\n",
              "      --disabled-fill-color: #666;\n",
              "  }\n",
              "\n",
              "  .colab-df-quickchart {\n",
              "    background-color: var(--bg-color);\n",
              "    border: none;\n",
              "    border-radius: 50%;\n",
              "    cursor: pointer;\n",
              "    display: none;\n",
              "    fill: var(--fill-color);\n",
              "    height: 32px;\n",
              "    padding: 0;\n",
              "    width: 32px;\n",
              "  }\n",
              "\n",
              "  .colab-df-quickchart:hover {\n",
              "    background-color: var(--hover-bg-color);\n",
              "    box-shadow: 0 1px 2px rgba(60, 64, 67, 0.3), 0 1px 3px 1px rgba(60, 64, 67, 0.15);\n",
              "    fill: var(--button-hover-fill-color);\n",
              "  }\n",
              "\n",
              "  .colab-df-quickchart-complete:disabled,\n",
              "  .colab-df-quickchart-complete:disabled:hover {\n",
              "    background-color: var(--disabled-bg-color);\n",
              "    fill: var(--disabled-fill-color);\n",
              "    box-shadow: none;\n",
              "  }\n",
              "\n",
              "  .colab-df-spinner {\n",
              "    border: 2px solid var(--fill-color);\n",
              "    border-color: transparent;\n",
              "    border-bottom-color: var(--fill-color);\n",
              "    animation:\n",
              "      spin 1s steps(1) infinite;\n",
              "  }\n",
              "\n",
              "  @keyframes spin {\n",
              "    0% {\n",
              "      border-color: transparent;\n",
              "      border-bottom-color: var(--fill-color);\n",
              "      border-left-color: var(--fill-color);\n",
              "    }\n",
              "    20% {\n",
              "      border-color: transparent;\n",
              "      border-left-color: var(--fill-color);\n",
              "      border-top-color: var(--fill-color);\n",
              "    }\n",
              "    30% {\n",
              "      border-color: transparent;\n",
              "      border-left-color: var(--fill-color);\n",
              "      border-top-color: var(--fill-color);\n",
              "      border-right-color: var(--fill-color);\n",
              "    }\n",
              "    40% {\n",
              "      border-color: transparent;\n",
              "      border-right-color: var(--fill-color);\n",
              "      border-top-color: var(--fill-color);\n",
              "    }\n",
              "    60% {\n",
              "      border-color: transparent;\n",
              "      border-right-color: var(--fill-color);\n",
              "    }\n",
              "    80% {\n",
              "      border-color: transparent;\n",
              "      border-right-color: var(--fill-color);\n",
              "      border-bottom-color: var(--fill-color);\n",
              "    }\n",
              "    90% {\n",
              "      border-color: transparent;\n",
              "      border-bottom-color: var(--fill-color);\n",
              "    }\n",
              "  }\n",
              "</style>\n",
              "\n",
              "  <script>\n",
              "    async function quickchart(key) {\n",
              "      const quickchartButtonEl =\n",
              "        document.querySelector('#' + key + ' button');\n",
              "      quickchartButtonEl.disabled = true;  // To prevent multiple clicks.\n",
              "      quickchartButtonEl.classList.add('colab-df-spinner');\n",
              "      try {\n",
              "        const charts = await google.colab.kernel.invokeFunction(\n",
              "            'suggestCharts', [key], {});\n",
              "      } catch (error) {\n",
              "        console.error('Error during call to suggestCharts:', error);\n",
              "      }\n",
              "      quickchartButtonEl.classList.remove('colab-df-spinner');\n",
              "      quickchartButtonEl.classList.add('colab-df-quickchart-complete');\n",
              "    }\n",
              "    (() => {\n",
              "      let quickchartButtonEl =\n",
              "        document.querySelector('#df-3ac19304-6a36-49d6-9753-9f38b498447d button');\n",
              "      quickchartButtonEl.style.display =\n",
              "        google.colab.kernel.accessAllowed ? 'block' : 'none';\n",
              "    })();\n",
              "  </script>\n",
              "</div>\n",
              "    </div>\n",
              "  </div>\n"
            ]
          },
          "metadata": {},
          "execution_count": 25
        }
      ]
    },
    {
      "cell_type": "code",
      "source": [
        "print(\"Dimensions:\", df.shape)\n",
        "print(\"Columns:\", df.columns)"
      ],
      "metadata": {
        "colab": {
          "base_uri": "https://localhost:8080/"
        },
        "id": "DIyk7gvet0Z3",
        "outputId": "06e2f376-5cdc-453d-c138-6e86534d1aca"
      },
      "execution_count": null,
      "outputs": [
        {
          "output_type": "stream",
          "name": "stdout",
          "text": [
            "Dimensions: (2000, 90)\n",
            "Columns: Index(['abdominalextensiondepthsitting', 'acromialheight',\n",
            "       'acromionradialelength', 'anklecircumference', 'axillaheight',\n",
            "       'balloffootcircumference', 'balloffootlength', 'biacromialbreadth',\n",
            "       'bicepscircumferenceflexed', 'bicristalbreadth', 'bideltoidbreadth',\n",
            "       'bimalleolarbreadth', 'bitragionchinarc', 'bitragionsubmandibulararc',\n",
            "       'bizygomaticbreadth', 'calfcircumference', 'cervicaleheight',\n",
            "       'chestbreadth', 'chestcircumference', 'chestdepth', 'chestheight',\n",
            "       'earbreadth', 'earlength', 'earprotrusion', 'elbowrestheight',\n",
            "       'eyeheightsitting', 'footbreadthhorizontal', 'footlength',\n",
            "       'forearmcenterofgriplength', 'forearmcircumferenceflexed',\n",
            "       'forearmforearmbreadth', 'forearmhandlength', 'functionalleglength',\n",
            "       'handbreadth', 'handcircumference', 'handlength', 'headbreadth',\n",
            "       'headcircumference', 'headlength', 'heelanklecircumference',\n",
            "       'heelbreadth', 'hipbreadth', 'hipbreadthsitting', 'iliocristaleheight',\n",
            "       'interpupillarybreadth', 'interscyei', 'interscyeii',\n",
            "       'kneeheightmidpatella', 'kneeheightsitting',\n",
            "       'lateralfemoralepicondyleheight', 'lateralmalleolusheight',\n",
            "       'lowerthighcircumference', 'mentonsellionlength', 'neckcircumference',\n",
            "       'neckcircumferencebase', 'overheadfingertipreachsitting', 'palmlength',\n",
            "       'poplitealheight', 'radialestylionlength', 'shouldercircumference',\n",
            "       'shoulderelbowlength', 'shoulderlength', 'sittingheight',\n",
            "       'sleevelengthspinewrist', 'sleeveoutseam', 'span', 'stature',\n",
            "       'suprasternaleheight', 'tenthribheight', 'thighcircumference',\n",
            "       'thighclearance', 'thumbtipreach', 'tibialheight', 'tragiontopofhead',\n",
            "       'trochanterionheight', 'verticaltrunkcircumferenceusa',\n",
            "       'waistbacklength', 'waistbreadth', 'waistcircumference', 'waistdepth',\n",
            "       'waistfrontlengthsitting', 'waistheightomphalion', 'weightkg',\n",
            "       'wristcircumference', 'wristheight', 'Gender', 'Age', 'Heightin',\n",
            "       'Weightlbs', 'WritingPreference'],\n",
            "      dtype='object')\n"
          ]
        }
      ]
    },
    {
      "cell_type": "code",
      "source": [
        "data = df.values\n",
        "target = df[\"Gender\"].values\n",
        "print(data)\n",
        "print(target)"
      ],
      "metadata": {
        "colab": {
          "base_uri": "https://localhost:8080/"
        },
        "id": "Uo_ld_1l7Sdh",
        "outputId": "d8484540-617a-408b-9ff7-78304a462ef2"
      },
      "execution_count": null,
      "outputs": [
        {
          "output_type": "stream",
          "name": "stdout",
          "text": [
            "[[266 1467 337 ... 71 180 'Right hand']\n",
            " [233 1395 326 ... 68 160 'Left hand']\n",
            " [287 1430 341 ... 68 205 'Left hand']\n",
            " ...\n",
            " [274 1477 370 ... 72 235 'Right hand']\n",
            " [270 1483 342 ... 72 195 'Right hand']\n",
            " [250 1547 348 ... 74 185 'Right hand']]\n",
            "['Male' 'Male' 'Male' ... 'Male' 'Male' 'Male']\n"
          ]
        }
      ]
    },
    {
      "cell_type": "code",
      "source": [
        "# Plot a histogram of the target values\n",
        "plt.hist(target, edgecolor = \"black\")\n",
        "plt.xlabel('Target Value')\n",
        "plt.ylabel('Frequency')\n",
        "plt.title('Distribution of Target Values')\n",
        "plt.show()"
      ],
      "metadata": {
        "colab": {
          "base_uri": "https://localhost:8080/",
          "height": 472
        },
        "id": "pG4D_rff7eVf",
        "outputId": "62d8b752-aea7-453b-bf5f-cf6694ed1ae5"
      },
      "execution_count": null,
      "outputs": [
        {
          "output_type": "display_data",
          "data": {
            "text/plain": [
              "<Figure size 640x480 with 1 Axes>"
            ],
            "image/png": "[encoded data removed]"
          },
          "metadata": {}
        }
      ]
    },
    {
      "cell_type": "code",
      "source": [
        "sns.pairplot(df)"
      ],
      "metadata": {
        "id": "O80grLaKAG2J"
      },
      "execution_count": null,
      "outputs": []
    },
    {
      "cell_type": "code",
      "source": [
        "inputs = ['span', 'thighcircumference']\n",
        "X = df[inputs].values\n",
        "y = df[\"Gender\"].values\n",
        "X_train, X_test, y_train, y_test = train_test_split(X, y, test_size = 0.3)"
      ],
      "metadata": {
        "id": "BeurQWMet3we"
      },
      "execution_count": null,
      "outputs": []
    },
    {
      "cell_type": "code",
      "source": [
        "plt.scatter(X_train[:, 0], X_train[:, 1], c = y_train == \"Female\")\n",
        "plt.xlabel(\"Span\")\n",
        "plt.ylabel(\"Thigh Circumference\")\n",
        "plt.colorbar()\n",
        "plt.show()"
      ],
      "metadata": {
        "colab": {
          "base_uri": "https://localhost:8080/",
          "height": 455
        },
        "id": "agdSxssut7Bd",
        "outputId": "533bc318-0e18-402c-c755-a7a613330b5b"
      },
      "execution_count": null,
      "outputs": [
        {
          "output_type": "display_data",
          "data": {
            "text/plain": [
              "<Figure size 640x480 with 2 Axes>"
            ],
            "image/png": "[encoded data removed]"
          },
          "metadata": {}
        }
      ]
    },
    {
      "cell_type": "markdown",
      "source": [
        "**LogisticRegression**"
      ],
      "metadata": {
        "id": "FVrwzduT8jDa"
      }
    },
    {
      "cell_type": "code",
      "source": [
        "model = LogisticRegression()\n",
        "model.fit(X_train, y_train)\n",
        "pred = model.predict(X_test)\n",
        "print(\"Accuracy Score:\", accuracy_score(y_test, pred))\n",
        "#print(\"R-squared Value:\", r2_score(y_test, pred))\n",
        "#print(\"Mean Squared Error:\", mean_squared_error(y_test, pred))"
      ],
      "metadata": {
        "colab": {
          "base_uri": "https://localhost:8080/"
        },
        "id": "u_yP9Olut9AZ",
        "outputId": "de23b7b5-e162-481a-a67c-59172f1a822f"
      },
      "execution_count": null,
      "outputs": [
        {
          "output_type": "stream",
          "name": "stdout",
          "text": [
            "Accuracy Score: 0.825\n"
          ]
        }
      ]
    },
    {
      "cell_type": "markdown",
      "source": [
        "**A higher accuracy score indicates that the model has made more correct predictions, while a lower accuracy score indicates that the model has made more incorrect predictions.\n",
        "A higher R-squared value indicates a better fit.\n",
        "MSE quantifies the average squared difference between predicted and actual values in a regression model, with lower values indicating better model fit.**"
      ],
      "metadata": {
        "id": "7AiBmzsoug_s"
      }
    },
    {
      "cell_type": "code",
      "source": [
        "print(\"B0:\", model.intercept_[0])\n",
        "print(\"B1:\", model.coef_[0,0])\n",
        "print(\"B2:\", model.coef_[0,1])"
      ],
      "metadata": {
        "colab": {
          "base_uri": "https://localhost:8080/"
        },
        "id": "uiRdE1fBt_Fg",
        "outputId": "cf1ec0b4-8938-498d-f09e-2852f27c354c"
      },
      "execution_count": null,
      "outputs": [
        {
          "output_type": "stream",
          "name": "stdout",
          "text": [
            "B0: -38.929330010231794\n",
            "B1: 0.02462157063666816\n",
            "B2: -0.006615546546522557\n"
          ]
        }
      ]
    },
    {
      "cell_type": "markdown",
      "source": [
        "**B0 represents the y-intercept, B1 is the coefficient for the first independent variable, and B2 is the coefficient for the second independent variable in the linear equation.**"
      ],
      "metadata": {
        "id": "6Gft47SP7NaH"
      }
    },
    {
      "cell_type": "code",
      "source": [
        "def dividingLine(x):\n",
        "  b0 = model.intercept_[0]\n",
        "  b1 = model.coef_[0,0]\n",
        "  b2 = model.coef_[0,1]\n",
        "\n",
        "  b = -b0/b2\n",
        "  m = -b1/b2\n",
        "\n",
        "  return m*x + b\n",
        "\n",
        "endpoints = np.array([X_test[:,0].min(), X_test[:,0].max()])\n",
        "\n",
        "plt.scatter(X_train[:, 0], X_train[:, 1], c = y_train == \"Female\")\n",
        "plt.plot(endpoints, dividingLine(endpoints), c = 'red')\n",
        "plt.colorbar()\n",
        "plt.show()"
      ],
      "metadata": {
        "colab": {
          "base_uri": "https://localhost:8080/",
          "height": 435
        },
        "id": "ChwGsy_wuA4N",
        "outputId": "faf31859-d771-4330-e8bb-88c0edb2c098"
      },
      "execution_count": null,
      "outputs": [
        {
          "output_type": "display_data",
          "data": {
            "text/plain": [
              "<Figure size 640x480 with 2 Axes>"
            ],
            "image/png": "[encoded data removed]"
          },
          "metadata": {}
        }
      ]
    },
    {
      "cell_type": "code",
      "source": [
        "cv = KFold(n_splits=4, shuffle=True)\n",
        "\n",
        "scores = cross_val_score( model,\n",
        "                          X,\n",
        "                          y,\n",
        "                          cv = cv,\n",
        "                          scoring = 'accuracy')\n",
        "\n",
        "print(\"mean: \", np.mean(scores))\n",
        "print(\"SD: \", np.std(scores))"
      ],
      "metadata": {
        "colab": {
          "base_uri": "https://localhost:8080/"
        },
        "id": "BWPdI30EuCwi",
        "outputId": "649caa94-44df-4ecf-937f-01f557fce1cb"
      },
      "execution_count": null,
      "outputs": [
        {
          "output_type": "stream",
          "name": "stdout",
          "text": [
            "mean:  0.833\n",
            "SD:  0.006708203932499375\n"
          ]
        }
      ]
    },
    {
      "cell_type": "markdown",
      "source": [
        "**Mean signifies the average performance metric, and SD (standard deviation) indicates the measure of variability or consistency in that metric across different data subsets. A higher mean accuracy indicates a better-performing model on average.  A lower standard deviation suggests that the model's performance is consistent across folds, while a higher standard deviation may indicate that the model's performance varies widely from fold to fold.**"
      ],
      "metadata": {
        "id": "99SqNYww9giZ"
      }
    },
    {
      "cell_type": "markdown",
      "source": [
        "**KNN**"
      ],
      "metadata": {
        "id": "ZbZTBeHx7_Gx"
      }
    },
    {
      "cell_type": "code",
      "source": [
        "X_train, X_test, y_train, y_test = train_test_split(X, y, test_size=0.2, random_state=42)\n",
        "\n",
        "knn = KNeighborsClassifier(n_neighbors=3)\n",
        "knn.fit(X_train, y_train)\n",
        "y_pred = knn.predict(X_test)\n",
        "\n",
        "print(\"Accuracy:\", accuracy_score(y_test, y_pred))\n",
        "\n",
        "print(\"Confusion Matrix:\\n\", confusion_matrix(y_test, y_pred))\n",
        "\n",
        "print(\"Classification Report:\\n\", classification_report(y_test, y_pred))"
      ],
      "metadata": {
        "colab": {
          "base_uri": "https://localhost:8080/"
        },
        "id": "BsjZbh3qspO_",
        "outputId": "5ab85c56-9b03-4c83-a2d2-6c37249829bf"
      },
      "execution_count": null,
      "outputs": [
        {
          "output_type": "stream",
          "name": "stdout",
          "text": [
            "Accuracy: 0.7725\n",
            "Confusion Matrix:\n",
            " [[151  42]\n",
            " [ 49 158]]\n",
            "Classification Report:\n",
            "               precision    recall  f1-score   support\n",
            "\n",
            "      Female       0.76      0.78      0.77       193\n",
            "        Male       0.79      0.76      0.78       207\n",
            "\n",
            "    accuracy                           0.77       400\n",
            "   macro avg       0.77      0.77      0.77       400\n",
            "weighted avg       0.77      0.77      0.77       400\n",
            "\n"
          ]
        }
      ]
    },
    {
      "cell_type": "markdown",
      "source": [
        "**Confusion matrix summarizes predicted and actual class results, while the Classification Report provides detailed metrics like precision, recall, and F1-score for each class.**"
      ],
      "metadata": {
        "id": "BZB_ztDM-TbM"
      }
    },
    {
      "cell_type": "code",
      "source": [
        "# For Binary Class\n",
        "plt.scatter(X_test[:, 0], X_test[:, 1], c=y_pred)\n",
        "plt.xlabel(\"Span\")\n",
        "plt.ylabel(\"Thigh Circumference\")\n",
        "plt.title(\"KNN Classification\")\n",
        "plt.colorbar()\n",
        "plt.show()"
      ],
      "metadata": {
        "id": "A6dYtnriwFYc"
      },
      "execution_count": null,
      "outputs": []
    },
    {
      "cell_type": "code",
      "source": [
        "#For Multiclass\n",
        "# Create a colormap with unique colors for each class\n",
        "cmap = ListedColormap(np.random.rand(len(np.unique(y_pred)), 3))\n",
        "\n",
        "# Create a scatter plot with the colormap\n",
        "plt.scatter(X_test[:, 0], X_test[:, 1], c=y_pred, cmap=cmap)\n",
        "plt.xlabel(\"Span\")\n",
        "plt.ylabel(\"Thigh Circumference\")\n",
        "plt.title(\"KNN Classification (Multiclass) with Colormap\")\n",
        "plt.colorbar(label=\"Class\")\n",
        "plt.show()"
      ],
      "metadata": {
        "id": "CzC7YcP54RWI"
      },
      "execution_count": null,
      "outputs": []
    },
    {
      "cell_type": "code",
      "source": [
        "\n",
        "plt.scatter(y_test, y_pred)\n",
        "plt.xlabel(\"Actual Class\")\n",
        "plt.ylabel(\"Predicted Class\")\n",
        "plt.title(\"Actual vs. Predicted Classes\")\n",
        "plt.show()"
      ],
      "metadata": {
        "id": "Ei7zkrSyz86I"
      },
      "execution_count": null,
      "outputs": []
    },
    {
      "cell_type": "code",
      "source": [
        "knn = KNeighborsClassifier(n_neighbors=3, metric='manhattan')\n",
        "knn.fit(X_train, y_train)\n",
        "y_pred = knn.predict(X_test)\n",
        "\n",
        "print(\"Accuracy:\", accuracy_score(y_test, y_pred))\n",
        "\n",
        "print(\"Confusion Matrix:\\n\", confusion_matrix(y_test, y_pred))\n",
        "\n",
        "print(\"Classification Report:\\n\", classification_report(y_test, y_pred))"
      ],
      "metadata": {
        "colab": {
          "base_uri": "https://localhost:8080/"
        },
        "id": "ssVrdvB-0Xk4",
        "outputId": "e26c761d-52de-4cab-e47d-02dc5ef0dd2f"
      },
      "execution_count": null,
      "outputs": [
        {
          "output_type": "stream",
          "name": "stdout",
          "text": [
            "Accuracy: 0.77\n",
            "Confusion Matrix:\n",
            " [[150  43]\n",
            " [ 49 158]]\n",
            "Classification Report:\n",
            "               precision    recall  f1-score   support\n",
            "\n",
            "      Female       0.75      0.78      0.77       193\n",
            "        Male       0.79      0.76      0.77       207\n",
            "\n",
            "    accuracy                           0.77       400\n",
            "   macro avg       0.77      0.77      0.77       400\n",
            "weighted avg       0.77      0.77      0.77       400\n",
            "\n"
          ]
        }
      ]
    },
    {
      "cell_type": "markdown",
      "source": [
        "**The results are slightly different with Manhattan distance compared to Euclidean distance in KNN. Manhattan distance calculates distance by summing the absolute differences along each dimension, which can lead to different neighbor selections and potentially different classification outcomes, especially when data features have varying importance or scales. On the other hand, Euclidean distance calculates distance by taking the square root of the sum of the squared differences along each dimension. It essentially calculates the straight-line distance between two points in a multi-dimensional space.**"
      ],
      "metadata": {
        "id": "YQfSD73AppoP"
      }
    }
  ]
}